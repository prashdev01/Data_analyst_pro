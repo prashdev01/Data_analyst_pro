{
 "cells": [
  {
   "cell_type": "markdown",
   "metadata": {},
   "source": [
    "# Cointab Software Private Limited\n",
    "Website: cointab.in Email: work@cointab.in\n",
    "Data Analyst - Assignment \n",
    "*Overview*\n",
    "Please understand the below mentioned real-life scenario and try to solve the assignment.\n",
    "The sample data is attached in the link provided below for your reference.\n",
    "Business Scenario\n",
    "\n",
    "- You are a data analyst and your client has a large ecommerce company in India (let’s call it X). X gets a thousand orders via their website on a daily basis and they have to deliver them as fast  as they can. For delivering the goods ordered by the customers, X has tied up with multiple courier companies in India as delivery partners who charge them some amount per delivery.\n",
    "- The charges are dependent upon two factors:\n",
    "    - ● **Weight of the product**\n",
    "    - ● **Distance between the warehouse (pickup location) and customer’s delivery address (destination location)**\n",
    "\n",
    "\n",
    "On an average, the delivery charges are **Rs. 100 per shipment**. So if X ships 1,00,000 orders  per month, they have to pay approximately Rs. 1 crore to the courier companies on a monthly  basis as charges. As the amount that X has to pay to the courier companies is very high, they want to verify if the  charges levied by their Delivery partners per Order are correct.\n",
    "*Input Data*\n",
    "- Left Hand Side (LHS) Data (X’s internal data spread across three reports)\n",
    "\n",
    "   \n",
    "    ● Website order report- which will list Order IDs and various products (SKUs) part of each order. Order ID is common identifier between X’s order report and courier company invoice\n",
    "\n",
    "   \n",
    "    ● SKU master with gross weight of each product-This should be used to calculate total  weight of each order and during analysis compare against one reported by courier company in their CSV invoice per Order ID. The courier company calculates weight in  slabs of 0.5 KG multiples, so first you have to figure out the total weight of the shipment and then figure out applicable weight slabs. \n",
    "\n",
    "\n",
    "For example: \n",
    "- If the total weight is 400 gram then weight slab should be 0.5\n",
    "- If the total weight is 950 gram then weight slab should be 1\n",
    "- If the total weight is 1 KG then weight slab should be 1\n",
    "\n",
    "\n",
    " **Cointab Software Private Limited**\n",
    "Website: cointab.in Email: work@cointab.in\n",
    "\n",
    "\n",
    "- If the total weight is 2.2 KG then weight slab should be 2.5\n",
    "    ● Warehouse pincode to All India pincode mapping -(this should be used to figure out delivery zone (a/b/c/d/e) and during analysis compare against one reported by courier company in their CSV invoice per Order IDRHS Data (courier company invoice in CSV file)\n",
    "    ● Invoice in CSV file mentioning AWB Number (courier company’s own internal ID), Order ID (company X’s order ID), weight of shipment, warehouse pickup pincode, customer delivery pincode, zone of delivery, charges per shipment, type of shipment\n",
    "    ● Courier charges rate card at weight slab and pincode level. If the invoice mentions “Forward charges” then only forward charges (“fwd”) should be applicable as per zone and fixed & additional weights based on weight slabs. If the invoice mentions “Forward and rto charges” then forward charges (“fwd”) and RTO charges (“rto”) should be applicable as per zone and fixed & additional weights based on weight slabs.\n",
    "    ● For the first 0.5 KG, “fixed” rate as per the slab is applicable. For each additional 0.5 KG, “additional” weight in the same proportion is applicable. Total charges will be “fixed” + “total additional” if anyOutput Data 1\n",
    "Create a resultant CSV/Excel file with the following columns:\n",
    "\n",
    "● Order ID\n",
    "\n",
    "● AWB Number\n",
    "\n",
    "● Total weig\n",
    "\n",
    "● Weight slab as per X (KG)\n",
    "\n",
    "● Total weight as per Courier Company (KG)\n",
    "\n",
    "● Weight slab charged by Courier Company (KG)\n",
    "\n",
    "● Delivery Zone as per X\n",
    "\n",
    "● Delivery Zone charged by Courier Company\n",
    "\n",
    "● Expected Charge as per X (Rs.)\n",
    "\n",
    "● Charges Billed by Courier Company (Rs.)\n",
    " \n",
    "● Difference Between Expected Charges and Billed Charges (Rs.)\n",
    "\n",
    "Output Data 2\n",
    "\n",
    "Create a summary table\n",
    "\n",
    "||Count| Amount (Rs.)|\n",
    "|----|-----|-------------|\n",
    "|Total orders where X has been correctly charged | <count> | <total invoice amount> |\n",
    "|Total Orders where X has been overcharged| <count> |<total overcharging amount> |\n",
    "|Total Orders where X has been undercharged | <count> | <total undercharging  amount>|\n",
    "\n",
    "**Assignment Data Download**\n",
    "\n",
    "*Please download the assignment data from the following link:*\n",
    "https://drive.google.com/file/d/1NjYY0t8ed4fcLEvgQl9DIqFluUkVL3GF/view\n",
    "\n",
    "Submission\n",
    "\n",
    "Please submit the result in an Excel with two workbooks (summary table in one and order level \n",
    "calculation in another) and your code in any programming language such as Python, R, Java, \n",
    "JavaScript, etc.\n",
    "Please zip the files and share it on “work-data-analyst-1@cointab.in”"
   ]
  },
  {
   "cell_type": "code",
   "execution_count": 2,
   "metadata": {},
   "outputs": [],
   "source": [
    "import pandas as pd\n",
    "import numpy as np\n",
    "import seaborn as sns\n",
    "import os\n",
    "\n",
    "\n",
    "\n"
   ]
  },
  {
   "cell_type": "code",
   "execution_count": 11,
   "metadata": {},
   "outputs": [
    {
     "data": {
      "text/html": [
       "<div>\n",
       "<style scoped>\n",
       "    .dataframe tbody tr th:only-of-type {\n",
       "        vertical-align: middle;\n",
       "    }\n",
       "\n",
       "    .dataframe tbody tr th {\n",
       "        vertical-align: top;\n",
       "    }\n",
       "\n",
       "    .dataframe thead th {\n",
       "        text-align: right;\n",
       "    }\n",
       "</style>\n",
       "<table border=\"1\" class=\"dataframe\">\n",
       "  <thead>\n",
       "    <tr style=\"text-align: right;\">\n",
       "      <th></th>\n",
       "      <th>ExternOrderNo</th>\n",
       "      <th>SKU</th>\n",
       "      <th>Order Qty</th>\n",
       "    </tr>\n",
       "  </thead>\n",
       "  <tbody>\n",
       "    <tr>\n",
       "      <th>0</th>\n",
       "      <td>2001827036</td>\n",
       "      <td>8904223818706</td>\n",
       "      <td>1.0</td>\n",
       "    </tr>\n",
       "    <tr>\n",
       "      <th>1</th>\n",
       "      <td>2001827036</td>\n",
       "      <td>8904223819093</td>\n",
       "      <td>1.0</td>\n",
       "    </tr>\n",
       "    <tr>\n",
       "      <th>2</th>\n",
       "      <td>2001827036</td>\n",
       "      <td>8904223819109</td>\n",
       "      <td>1.0</td>\n",
       "    </tr>\n",
       "    <tr>\n",
       "      <th>3</th>\n",
       "      <td>2001827036</td>\n",
       "      <td>8904223818430</td>\n",
       "      <td>1.0</td>\n",
       "    </tr>\n",
       "    <tr>\n",
       "      <th>4</th>\n",
       "      <td>2001827036</td>\n",
       "      <td>8904223819277</td>\n",
       "      <td>1.0</td>\n",
       "    </tr>\n",
       "  </tbody>\n",
       "</table>\n",
       "</div>"
      ],
      "text/plain": [
       "   ExternOrderNo            SKU  Order Qty\n",
       "0     2001827036  8904223818706        1.0\n",
       "1     2001827036  8904223819093        1.0\n",
       "2     2001827036  8904223819109        1.0\n",
       "3     2001827036  8904223818430        1.0\n",
       "4     2001827036  8904223819277        1.0"
      ]
     },
     "execution_count": 11,
     "metadata": {},
     "output_type": "execute_result"
    }
   ],
   "source": [
    "order_df = pd.read_excel('./Data/Company X - Order Report.xlsx')\n",
    "order_df.head()\n",
    "# order_df.value_counts()"
   ]
  },
  {
   "cell_type": "code",
   "execution_count": 8,
   "metadata": {},
   "outputs": [
    {
     "data": {
      "text/plain": [
       "Warehouse Pincode  Customer Pincode  Zone\n",
       "121003             302017            b       5\n",
       "                   313001            b       4\n",
       "                   140301            b       2\n",
       "                   248001            b       2\n",
       "                   302020            b       2\n",
       "                                            ..\n",
       "                   311011            b       1\n",
       "                   311001            b       1\n",
       "                   307026            b       1\n",
       "                   306302            b       1\n",
       "                   845438            d       1\n",
       "Length: 108, dtype: int64"
      ]
     },
     "execution_count": 8,
     "metadata": {},
     "output_type": "execute_result"
    }
   ],
   "source": [
    "pincode_df=pd.read_excel('./Data/Company X - Pincode Zones.xlsx')\n",
    "pincode_df.value_counts()"
   ]
  },
  {
   "cell_type": "code",
   "execution_count": 10,
   "metadata": {},
   "outputs": [
    {
     "data": {
      "text/plain": [
       "SKU            Weight (g)\n",
       "GIFTBOX202002  500           2\n",
       "8904223815682  210           1\n",
       "8904223819291  112           1\n",
       "8904223819093  150           1\n",
       "8904223819109  100           1\n",
       "                            ..\n",
       "8904223818898  140           1\n",
       "8904223818935  120           1\n",
       "8904223818942  133           1\n",
       "8904223818980  110           1\n",
       "SACHETS001     10            1\n",
       "Length: 65, dtype: int64"
      ]
     },
     "execution_count": 10,
     "metadata": {},
     "output_type": "execute_result"
    }
   ],
   "source": [
    "SKU_df=pd.read_excel('./Data/Company X - SKU Master.xlsx')\n",
    "SKU_df.head()\n",
    "SKU_df.value_counts()"
   ]
  },
  {
   "cell_type": "code",
   "execution_count": null,
   "metadata": {},
   "outputs": [],
   "source": []
  }
 ],
 "metadata": {
  "kernelspec": {
   "display_name": "Python 3",
   "language": "python",
   "name": "python3"
  },
  "language_info": {
   "codemirror_mode": {
    "name": "ipython",
    "version": 3
   },
   "file_extension": ".py",
   "mimetype": "text/x-python",
   "name": "python",
   "nbconvert_exporter": "python",
   "pygments_lexer": "ipython3",
   "version": "3.11.3"
  },
  "orig_nbformat": 4
 },
 "nbformat": 4,
 "nbformat_minor": 2
}
